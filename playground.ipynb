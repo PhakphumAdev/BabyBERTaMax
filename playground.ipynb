{
 "cells": [
  {
   "cell_type": "code",
   "execution_count": 3,
   "id": "4c43ccb3",
   "metadata": {},
   "outputs": [
    {
     "name": "stdout",
     "output_type": "stream",
     "text": [
      "bnc_spoken.train      gutenberg.train       simple_wiki.train\r\n",
      "childes.train         open_subtitles.train  switchboard.train\r\n"
     ]
    }
   ],
   "source": [
    "ls dataset/train_10M"
   ]
  },
  {
   "cell_type": "code",
   "execution_count": 4,
   "id": "d80144a9",
   "metadata": {},
   "outputs": [
    {
     "name": "stderr",
     "output_type": "stream",
     "text": [
      "/Users/phakphumartkaew/anaconda3/lib/python3.10/site-packages/tqdm/auto.py:22: TqdmWarning: IProgress not found. Please update jupyter and ipywidgets. See https://ipywidgets.readthedocs.io/en/stable/user_install.html\n",
      "  from .autonotebook import tqdm as notebook_tqdm\n"
     ]
    },
    {
     "name": "stdout",
     "output_type": "stream",
     "text": [
      "Downloading and preparing dataset text/default to /Users/phakphumartkaew/.cache/huggingface/datasets/text/default-66327f86324568a7/0.0.0...\n"
     ]
    },
    {
     "name": "stderr",
     "output_type": "stream",
     "text": [
      "Downloading data files: 100%|███████████████████| 1/1 [00:00<00:00, 1301.77it/s]\n",
      "Extracting data files: 100%|█████████████████████| 1/1 [00:00<00:00, 208.89it/s]\n",
      "                                                                     \r"
     ]
    },
    {
     "name": "stdout",
     "output_type": "stream",
     "text": [
      "Dataset text downloaded and prepared to /Users/phakphumartkaew/.cache/huggingface/datasets/text/default-66327f86324568a7/0.0.0. Subsequent calls will reuse this data.\n",
      "['*CHI:\\tno.', '*MOT:\\tand sit down.', '*CHI:\\tthere a napkin.', '*MOT:\\tthey are napkins yes.', '*MOT:\\tturn around and finish your lunch.']\n"
     ]
    }
   ],
   "source": [
    "from datasets import Dataset\n",
    "\n",
    "def load_dataset(file_path):\n",
    "    # Load the dataset\n",
    "    dataset = Dataset.from_text(file_path)\n",
    "    \n",
    "    # Display the first few examples\n",
    "    print(dataset['text'][:5])\n",
    "\n",
    "# Specify the path to your text file\n",
    "file_path = 'dataset/train_10M/childes.train'\n",
    "\n",
    "load_dataset(file_path)\n"
   ]
  },
  {
   "cell_type": "code",
   "execution_count": null,
   "id": "ee6f931d",
   "metadata": {},
   "outputs": [],
   "source": []
  }
 ],
 "metadata": {
  "kernelspec": {
   "display_name": "Python 3 (ipykernel)",
   "language": "python",
   "name": "python3"
  },
  "language_info": {
   "codemirror_mode": {
    "name": "ipython",
    "version": 3
   },
   "file_extension": ".py",
   "mimetype": "text/x-python",
   "name": "python",
   "nbconvert_exporter": "python",
   "pygments_lexer": "ipython3",
   "version": "3.10.9"
  }
 },
 "nbformat": 4,
 "nbformat_minor": 5
}
